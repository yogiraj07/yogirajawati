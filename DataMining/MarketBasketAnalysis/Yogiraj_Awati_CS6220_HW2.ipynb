{
 "cells": [
  {
   "cell_type": "code",
   "execution_count": null,
   "metadata": {
    "collapsed": false,
    "deletable": true,
    "editable": true,
    "scrolled": true
   },
   "outputs": [],
   "source": [
    "from pyspark.mllib.fpm import FPGrowth\n",
    "import sys\n",
    "import io\n",
    "\n",
    "from pyspark import SparkContext\n",
    "sc = SparkContext(\"local\",\"simple app\")"
   ]
  },
  {
   "cell_type": "code",
   "execution_count": null,
   "metadata": {
    "collapsed": false,
    "deletable": true,
    "editable": true
   },
   "outputs": [],
   "source": [
    "data = sc.textFile(\"/home/yogi/DataMining/HW2/input/publications.txt\")\n",
    "\n",
    "transactions = data.filter(lambda line: line.startswith(AUTHOR_PREFIX))\\\n",
    "                   .map(lambda line: line[2:])\\\n",
    "                   .filter(lambda line: line != \"\" and line!='')\\\n",
    "                   .map(lambda line: line.split(\",\"))\n",
    "for x in transactions.collect():\n",
    "    print (x)"
   ]
  },
  {
   "cell_type": "code",
   "execution_count": null,
   "metadata": {
    "collapsed": false,
    "deletable": true,
    "editable": true
   },
   "outputs": [],
   "source": [
    "######Printing models#########\n",
    "#1. Train data with minimum support = 1e-4\n",
    "model = FPGrowth.train(transactions, minSupport=0.0001, numPartitions=1)\n",
    "result = model.freqItemsets().collect()\n",
    "print (\"Done\")"
   ]
  },
  {
   "cell_type": "code",
   "execution_count": null,
   "metadata": {
    "collapsed": true
   },
   "outputs": [],
   "source": [
    "#2. Train data with minimum support = 1e-5\n",
    "model = FPGrowth.train(transactions, minSupport=0.00001, numPartitions=1)\n",
    "result = model.freqItemsets().collect()\n",
    "print (\"Done\")"
   ]
  },
  {
   "cell_type": "code",
   "execution_count": null,
   "metadata": {
    "collapsed": true
   },
   "outputs": [],
   "source": [
    "#3. Train data with minimum support = 0.5e-5\n",
    "model = FPGrowth.train(transactions, minSupport=0.000005, numPartitions=1)\n",
    "result = model.freqItemsets().collect()\n",
    "print (\"Done\")"
   ]
  },
  {
   "cell_type": "code",
   "execution_count": null,
   "metadata": {
    "collapsed": true
   },
   "outputs": [],
   "source": [
    "#4. Train data with minimum support = 1e-6\n",
    "model = FPGrowth.train(transactions, minSupport=0.000001, numPartitions=1)\n",
    "result = model.freqItemsets().collect()\n",
    "print (\"Done\")"
   ]
  },
  {
   "cell_type": "code",
   "execution_count": null,
   "metadata": {
    "collapsed": false,
    "deletable": true,
    "editable": true
   },
   "outputs": [],
   "source": [
    "### Keep threshold = 0.5e-5 and report the top 5 co-authors for these researchers: \n",
    "### Rakesh Agrawal, Jiawei Han, Zoubin Ghahramani and Christos Faloutsos according to frequency\n",
    "\n",
    "def populateData (frequency,authorList,dictionary):\n",
    "    for author in authorList:\n",
    "        if author in dictionary:\n",
    "            dictionary[author]=dictionary[author] + frequency\n",
    "        else:\n",
    "            dictionary[author]=frequency\n",
    "    \n",
    "\n",
    "def displayTopKAuthors(author_name,k,dictionary):\n",
    "    if len(dictionary) == 0:\n",
    "        print (\"There are no co-authors for Author: \",author_name)\n",
    "    else:\n",
    "        sorted_data=sorted(dictionary.items(), key=lambda dictionary: (-dictionary[1], dictionary[0]))\n",
    "\n",
    "        print (\"Printing top :\",k,\" co-authors for \",author_name)\n",
    "        count =0\n",
    "        for key, value in sorted_data.items():\n",
    "            print(\"Co-Author: \",key,\" , Number of publications: \",value)\n",
    "            count=count+1\n",
    "            if(count==k):\n",
    "                break\n",
    "    \n",
    "    \n",
    "\n",
    "rakesh =\"Rakesh Agrawal\"\n",
    "jiawei =\"Jiawei Han\"\n",
    "zoubin=\"Zoubin Ghahramani\"\n",
    "christos=\"Christos Faloutsos\"\n",
    "k=5\n",
    "\n",
    "#Train data with minimum support = 0.5e-5 \n",
    "model = FPGrowth.train(transactions, minSupport=0.00005, numPartitions=1)\n",
    "result = model.freqItemsets().collect()\n",
    "\n",
    "rakeshDict =dict()\n",
    "jiaweiDict =dict()\n",
    "zoubinDict =dict()\n",
    "christosDict =dict()\n",
    "\n",
    "for fi in result:\n",
    "    authors = fi[0]\n",
    "    frequency = fi[1]\n",
    "    if rakesh in authors:\n",
    "        authors.remove(rakesh)\n",
    "        populateData (frequency,authors,rakeshDict)\n",
    "    elif jiawei in authors:\n",
    "        authors.remove(jiawei)\n",
    "        populateData (frequency,authors,jiaweiDict)\n",
    "    elif zoubin in authors:\n",
    "        authors.remove(zoubin)\n",
    "        populateData (frequency,authors,zoubinDict)\n",
    "    elif christos in authors:\n",
    "        authors.remove(christos)\n",
    "        populateData (frequency,authors,christosDict)\n",
    "        \n",
    "\n",
    "displayTopKAuthors(rakesh,k,rakeshDict) #get Top k=5 co-authors for the given author\n",
    "displayTopKAuthors(jiawei,k,jiaweiDict) #get Top k=5 co-authors for the given author\n",
    "displayTopKAuthors(zoubin,k,zoubinDict) #get Top k=5 co-authors for the given author\n",
    "displayTopKAuthors(christos,k,christosDict) #get Top k=5 co-authors for the given author"
   ]
  },
  {
   "cell_type": "code",
   "execution_count": null,
   "metadata": {
    "collapsed": true,
    "deletable": true,
    "editable": true
   },
   "outputs": [],
   "source": [
    ""
   ]
  }
 ],
 "metadata": {
  "kernelspec": {
   "display_name": "Python 2",
   "language": "python",
   "name": "python2"
  },
  "language_info": {
   "codemirror_mode": {
    "name": "ipython",
    "version": 2.0
   },
   "file_extension": ".py",
   "mimetype": "text/x-python",
   "name": "python",
   "nbconvert_exporter": "python",
   "pygments_lexer": "ipython2",
   "version": "2.7.12"
  }
 },
 "nbformat": 4,
 "nbformat_minor": 0
}